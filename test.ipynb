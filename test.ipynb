{
 "cells": [
  {
   "cell_type": "code",
   "execution_count": 2,
   "metadata": {},
   "outputs": [
    {
     "data": {
      "text/html": [
       "<div>\n",
       "<style scoped>\n",
       "    .dataframe tbody tr th:only-of-type {\n",
       "        vertical-align: middle;\n",
       "    }\n",
       "\n",
       "    .dataframe tbody tr th {\n",
       "        vertical-align: top;\n",
       "    }\n",
       "\n",
       "    .dataframe thead th {\n",
       "        text-align: right;\n",
       "    }\n",
       "</style>\n",
       "<table border=\"1\" class=\"dataframe\">\n",
       "  <thead>\n",
       "    <tr style=\"text-align: right;\">\n",
       "      <th></th>\n",
       "      <th>client_id</th>\n",
       "      <th>path</th>\n",
       "      <th>sentence</th>\n",
       "    </tr>\n",
       "  </thead>\n",
       "  <tbody>\n",
       "    <tr>\n",
       "      <th>83</th>\n",
       "      <td>02891c7f20efefaece0df2cce7f74e0fedb8bd47d2930a...</td>\n",
       "      <td>common_voice_en_38120044.mp3</td>\n",
       "      <td>It is punishable with imprisonment for life or...</td>\n",
       "    </tr>\n",
       "    <tr>\n",
       "      <th>84</th>\n",
       "      <td>02891c7f20efefaece0df2cce7f74e0fedb8bd47d2930a...</td>\n",
       "      <td>common_voice_en_38120073.mp3</td>\n",
       "      <td>Half Arrow is True Son's favorite Lenape cousin.</td>\n",
       "    </tr>\n",
       "    <tr>\n",
       "      <th>85</th>\n",
       "      <td>02b2576121e5097c530bc03c775fad5de6f257acce0eee...</td>\n",
       "      <td>common_voice_en_38401029.mp3</td>\n",
       "      <td>They get thousands of letters from wrongly con...</td>\n",
       "    </tr>\n",
       "    <tr>\n",
       "      <th>86</th>\n",
       "      <td>02b2576121e5097c530bc03c775fad5de6f257acce0eee...</td>\n",
       "      <td>common_voice_en_38401036.mp3</td>\n",
       "      <td>It is found in Japan, Nepal, and Southeast Asia.</td>\n",
       "    </tr>\n",
       "    <tr>\n",
       "      <th>87</th>\n",
       "      <td>058fc544a4a9a9198ce23515c4ba29f583e56621da3add...</td>\n",
       "      <td>common_voice_en_38053032.mp3</td>\n",
       "      <td>It was mainly worn with ball gowns or ceremoni...</td>\n",
       "    </tr>\n",
       "  </tbody>\n",
       "</table>\n",
       "</div>"
      ],
      "text/plain": [
       "                                            client_id  \\\n",
       "83  02891c7f20efefaece0df2cce7f74e0fedb8bd47d2930a...   \n",
       "84  02891c7f20efefaece0df2cce7f74e0fedb8bd47d2930a...   \n",
       "85  02b2576121e5097c530bc03c775fad5de6f257acce0eee...   \n",
       "86  02b2576121e5097c530bc03c775fad5de6f257acce0eee...   \n",
       "87  058fc544a4a9a9198ce23515c4ba29f583e56621da3add...   \n",
       "\n",
       "                            path  \\\n",
       "83  common_voice_en_38120044.mp3   \n",
       "84  common_voice_en_38120073.mp3   \n",
       "85  common_voice_en_38401029.mp3   \n",
       "86  common_voice_en_38401036.mp3   \n",
       "87  common_voice_en_38053032.mp3   \n",
       "\n",
       "                                             sentence  \n",
       "83  It is punishable with imprisonment for life or...  \n",
       "84   Half Arrow is True Son's favorite Lenape cousin.  \n",
       "85  They get thousands of letters from wrongly con...  \n",
       "86   It is found in Japan, Nepal, and Southeast Asia.  \n",
       "87  It was mainly worn with ball gowns or ceremoni...  "
      ]
     },
     "execution_count": 2,
     "metadata": {},
     "output_type": "execute_result"
    }
   ],
   "source": [
    "import pandas as pd\n",
    "\n",
    "input_file = \"./en/validated.tsv\"\n",
    "df = pd.read_csv(input_file, delimiter='\\t')\n",
    "\n",
    "# Select only the relevant columns for TTS preprocessing\n",
    "filtered_df = df[['client_id', 'path', 'sentence']]\n",
    "\n",
    "# Filter out client_id groups with fewer than 2 samples\n",
    "client_counts = filtered_df['client_id'].value_counts()\n",
    "sufficient_samples_df = filtered_df[filtered_df['client_id'].isin(client_counts[client_counts >= 2].index)]\n",
    "\n",
    "sufficient_samples_df.head()"
   ]
  },
  {
   "cell_type": "code",
   "execution_count": 3,
   "metadata": {},
   "outputs": [
    {
     "data": {
      "text/plain": [
       "102"
      ]
     },
     "execution_count": 3,
     "metadata": {},
     "output_type": "execute_result"
    }
   ],
   "source": [
    "sufficient_samples_df[\"client_id\"].nunique()"
   ]
  },
  {
   "cell_type": "code",
   "execution_count": 1,
   "metadata": {},
   "outputs": [
    {
     "data": {
      "text/plain": [
       "True"
      ]
     },
     "execution_count": 1,
     "metadata": {},
     "output_type": "execute_result"
    }
   ],
   "source": [
    "import torch\n",
    "\n",
    "torch.cuda.is_available()"
   ]
  }
 ],
 "metadata": {
  "kernelspec": {
   "display_name": "Python 3",
   "language": "python",
   "name": "python3"
  },
  "language_info": {
   "codemirror_mode": {
    "name": "ipython",
    "version": 3
   },
   "file_extension": ".py",
   "mimetype": "text/x-python",
   "name": "python",
   "nbconvert_exporter": "python",
   "pygments_lexer": "ipython3",
   "version": "3.11.9"
  }
 },
 "nbformat": 4,
 "nbformat_minor": 2
}
